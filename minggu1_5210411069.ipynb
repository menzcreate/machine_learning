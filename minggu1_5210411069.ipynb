{
  "nbformat": 4,
  "nbformat_minor": 0,
  "metadata": {
    "colab": {
      "provenance": [],
      "toc_visible": true,
      "authorship_tag": "ABX9TyPyINuS0nM9MUYiW/50BUec",
      "include_colab_link": true
    },
    "kernelspec": {
      "name": "python3",
      "display_name": "Python 3"
    },
    "language_info": {
      "name": "python"
    }
  },
  "cells": [
    {
      "cell_type": "markdown",
      "metadata": {
        "id": "view-in-github",
        "colab_type": "text"
      },
      "source": [
        "<a href=\"https://colab.research.google.com/github/menzcreate/machine_learning/blob/main/minggu1_5210411069.ipynb\" target=\"_parent\"><img src=\"https://colab.research.google.com/assets/colab-badge.svg\" alt=\"Open In Colab\"/></a>"
      ]
    },
    {
      "cell_type": "code",
      "execution_count": null,
      "metadata": {
        "id": "OAVLraTaGPwf"
      },
      "outputs": [],
      "source": []
    },
    {
      "cell_type": "markdown",
      "source": [],
      "metadata": {
        "id": "BsPSy8s1GQS_"
      }
    },
    {
      "cell_type": "markdown",
      "source": [
        "# 1.1. Apa itu kecerdasan buatan, dan machine learning?\n",
        "\n",
        "\n",
        "---\n",
        "\n",
        "\n",
        "\n",
        "Kecerdasan buatan (Artificial Intelligence atau AI) adalah bidang ilmu komputer yang bertujuan untuk membuat mesin atau program komputer yang mampu melakukan tugas-tugas yang biasanya membutuhkan kecerdasan manusia, seperti pengambilan keputusan, pemrosesan bahasa alami, pengenalan gambar dan suara, serta perencanaan.\n",
        "\n",
        "Salah satu cabang dari AI adalah machine learning (pembelajaran mesin), yang merupakan teknik untuk membangun model matematis yang dapat mempelajari pola dari data yang diberikan tanpa harus secara eksplisit diprogram. Machine learning memungkinkan sistem untuk meningkatkan kinerjanya seiring dengan bertambahnya data yang digunakan untuk melatih model\n",
        "\n",
        "Ada beberapa jenis machine learning, diantaranya:\n",
        "\n",
        "1. Supervised Learning: Model dilatih dengan menggunakan data yang sudah diketahui labelnya untuk melakukan prediksi pada data yang belum dikenali. Contoh penerapan supervised learning adalah pada pengenalan gambar, di mana model belajar mengenali gambar yang sudah diberi label kategori.\n",
        "\n",
        "2. Unsupervised Learning: Model dilatih dengan data yang tidak memiliki label, sehingga model harus menemukan pola-pola sendiri dalam data. Contoh penerapan unsupervised learning adalah pada klastering data, di mana model akan mengelompokkan data menjadi beberapa kelompok berdasarkan pola yang ditemukan.\n",
        "\n",
        "3. Reinforcement Learning: Model belajar dengan mencoba-coba untuk melakukan tindakan yang benar pada lingkungan yang dinamis, dan diberikan reward atau hukuman berdasarkan hasil tindakannya. Contoh penerapan reinforcement learning adalah pada permainan seperti catur atau Go, di mana model belajar dengan bermain dan mendapatkan reward atau hukuman berdasarkan hasil permainannya\n",
        "\n",
        "Dalam prakteknya, Machine Learning sering digunakan untuk membangun model prediktif, di mana mesin dapat memprediksi output yang diinginkan berdasarkan input yang diberikan. Contoh penggunaan Machine Learning dalam kehidupan sehari-hari adalah rekomendasi produk di toko online, prediksi cuaca, dan pengenalan tulisan tangan"
      ],
      "metadata": {
        "id": "FQrWCiXUG4ZP"
      }
    },
    {
      "cell_type": "markdown",
      "source": [
        "# 1.2. Jenis Data:\n",
        "\n",
        "\n",
        "---\n",
        "\n",
        "\n",
        "**A. Apa itu Data Terstruktur**\n",
        "> Data terstruktur (structured data) adalah tipe data yang memiliki format yang terorganisir dan dikelompokkan dalam tabel, dengan setiap kolom merepresentasikan jenis informasi tertentu dan setiap baris merepresentasikan suatu entitas atau objek tertentu. Data terstruktur biasanya tersimpan dalam basis data relasional atau file Excel, dan memiliki aturan dan skema yang konsisten dalam mengatur nilai-nilai data\n",
        "\n",
        "Data terstruktur seringkali memiliki format yang konsisten dan mudah diakses, sehingga dapat dianalisis dengan cepat dan efisien menggunakan perangkat lunak dan alat bantu analisis data\n",
        "\n",
        "Data terstruktur sangat penting dalam dunia bisnis dan industri, karena data ini dapat digunakan untuk analisis bisnis, pengambilan keputusan, dan prediksi masa depan. Salah satu keunggulan data terstruktur adalah kemampuannya untuk diolah menggunakan perangkat lunak analisis data yang tersedia, seperti Excel, SPSS, atau Python. Oleh karena itu, data terstruktur sangat penting dalam pengambilan keputusan yang berbasis data\n",
        "\n",
        "Contoh data terstruktur adalah data penjualan sebuah perusahaan yang terdiri dari kolom-kolom seperti tanggal penjualan, jenis produk, jumlah terjual, harga, dan nama pelanggan. Setiap kolom memiliki format atau tipe data yang spesifik, seperti tanggal, teks, atau angka, dan setiap baris merepresentasikan penjualan yang dilakukan pada tanggal tertentu oleh pelanggan tertentu\n",
        "\n",
        "**B. Apa itu Data Tidak Terstruktur?**\n",
        "\n",
        "> Data Tidak Terstruktur (Unstructured Data) adalah jenis data yang tidak memiliki format atau struktur yang jelas. Data ini seringkali berupa teks, gambar, suara, atau video, dan tidak memiliki format atau standar yang konsisten.\n",
        "\n",
        "Namun, data tidak terstruktur sangat penting dalam dunia bisnis dan industri karena data ini dapat memberikan wawasan dan informasi berharga yang tidak dapat ditemukan dalam data terstruktur. Sebagai contoh, analisis sentimen pada postingan media sosial dapat memberikan wawasan tentang bagaimana pelanggan merespons produk atau layanan perusahaan.\n",
        "\n",
        "Untuk menganalisis data tidak terstruktur, diperlukan teknik-teknik khusus seperti Natural Language Processing (NLP) untuk memproses teks, Computer Vision untuk memproses gambar, atau Speech Recognition untuk memproses suara. Teknik-teknik ini dapat digunakan untuk mengubah data tidak terstruktur menjadi format yang dapat diolah oleh perangkat lunak analisis data, sehingga data ini dapat memberikan wawasan yang berguna bagi perusahaan.\n",
        "\n",
        "Contoh data tidak terstruktur adalah pesan teks, posting media sosial, email, dokumen PDF, rekaman suara, dan gambar medis. Data ini seringkali disimpan dalam format yang tidak terstruktur, seperti file teks, file gambar, atau file suara, dan sulit untuk dianalisis menggunakan perangkat lunak analisis data yang tradisional.\n",
        "\n",
        "\n",
        "\n",
        "\n",
        "\n",
        "\n",
        "\n",
        "\n",
        "\n"
      ],
      "metadata": {
        "id": "tHVOe7FaIoxD"
      }
    },
    {
      "cell_type": "markdown",
      "source": [
        "# 1.3. Jenis Pembelajaran : \n",
        "\n",
        "\n",
        "---\n",
        "\n",
        "**A. Apa itu Supervised Learning?**\n",
        "\n",
        ">Supervised Learning adalah salah satu jenis pembelajaran mesin (machine learning) di mana algoritma mempelajari hubungan antara input data (fitur) dan output yang diinginkan (label) dari data pelatihan yang sudah diketahui. Dalam Supervised Learning, input data dan output yang diinginkan dijadikan sebagai pasangan terkait yang disebut sebagai \"pasangan fitur-label\" atau \"pasangan input-output\".\n",
        "\n",
        "Proses pembelajaran dalam Supervised Learning melibatkan memberikan contoh data pelatihan dengan label yang diketahui kepada algoritma mesin, dan algoritma mesin mempelajari hubungan antara input data dan output yang diinginkan dari data pelatihan tersebut. Setelah algoritma mesin mempelajari pola dari data pelatihan, algoritma tersebut dapat digunakan untuk memprediksi label baru dari input data yang belum pernah dilihat sebelumnya.\n",
        "\n",
        "Keuntungan dari Supervised Learning adalah dapat digunakan untuk melakukan prediksi dan klasifikasi pada data baru yang belum pernah dilihat sebelumnya. Namun, kelemahannya adalah membutuhkan data pelatihan yang besar dan memiliki label yang akurat, serta cenderung overfitting jika model terlalu kompleks dan terlalu disesuaikan dengan data pelatihan.\n",
        "\n",
        "Contoh penerapan Supervised Learning dalam dunia nyata adalah dalam klasifikasi email sebagai spam atau bukan spam, prediksi harga rumah berdasarkan fitur seperti jumlah kamar tidur dan lokasi, atau pengenalan wajah untuk keperluan identifikasi. Algoritma Supervised Learning yang umum digunakan adalah Regresi Linier, Naive Bayes, Decision Tree, Random Forest, dan Neural Network.\n",
        "\n",
        "\n"
      ],
      "metadata": {
        "id": "I51vWoRqKvw9"
      }
    }
  ]
}